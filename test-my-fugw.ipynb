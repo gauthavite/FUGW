{
 "cells": [
  {
   "cell_type": "markdown",
   "id": "b65045bd-21d3-4a7e-b329-a39adc24c536",
   "metadata": {},
   "source": [
    "#### Graph"
   ]
  },
  {
   "cell_type": "code",
   "execution_count": 1,
   "id": "d33352b0-fb66-4f6f-b657-c4bf0cb19ea0",
   "metadata": {},
   "outputs": [],
   "source": [
    "from fugw_solver.solver import solver\n",
    "import torch\n",
    "from collections import defaultdict"
   ]
  },
  {
   "cell_type": "code",
   "execution_count": null,
   "id": "5a93a574-5d91-48b6-927f-da63b7d3ab60",
   "metadata": {},
   "outputs": [],
   "source": [
    "import networkx as nx\n",
    "import matplotlib.pyplot as plt\n",
    "import numpy as np\n",
    "\n",
    "source_adjacency_matrix = np.array([[0, 1, 1, 1, 0, 0, 0, 0],\n",
    "                             [1, 0, 0, 1, 0, 0, 1, 0],\n",
    "                             [1, 0, 0, 1, 1, 0, 0, 0],\n",
    "                             [1, 1, 1, 0, 0, 0, 1, 0],\n",
    "                             [0, 0, 1, 0, 0, 1, 0, 1],\n",
    "                             [0, 0, 0, 0, 1, 0, 1, 0],\n",
    "                             [0, 1, 0, 1, 0, 1, 0, 0],\n",
    "                             [0, 0, 0, 0, 1, 0, 0, 0]])\n",
    "\n",
    "n_points_source = len(source_adjacency_matrix)\n",
    "\n",
    "source_graph = nx.Graph(source_adjacency_matrix)\n",
    "\n",
    "source_locations = nx.spring_layout(source_graph)\n",
    "\n",
    "source_features = np.ones(n_points_source)\n",
    "\n",
    "plt.figure(figsize=(3, 3))\n",
    "nx.draw(source_graph, source_locations, with_labels=True)\n",
    "plt.title('Complex Graph 1 with Node Positions')\n",
    "plt.show()"
   ]
  },
  {
   "cell_type": "code",
   "execution_count": null,
   "id": "8808c5a1-cd41-4098-aa7d-445c75c0df3b",
   "metadata": {},
   "outputs": [],
   "source": [
    "target_adjacency_matrix = np.array([\n",
    "                             [0, 0, 1, 0, 0, 1, 0],\n",
    "                             [0, 0, 1, 1, 0, 0, 0],\n",
    "                             [1, 1, 0, 0, 1, 1, 0],\n",
    "                             [0, 1, 0, 0, 1, 0, 1],\n",
    "                             [0, 0, 1, 1, 0, 1, 0],\n",
    "                             [1, 0, 1, 0, 1, 0, 0],\n",
    "                             [0, 0, 0, 1, 0, 0, 0]])\n",
    "\n",
    "n_points_target = len(target_adjacency_matrix)\n",
    "\n",
    "target_graph = nx.Graph(target_adjacency_matrix)\n",
    "\n",
    "target_locations = nx.spring_layout(target_graph)\n",
    "\n",
    "target_features = np.ones(n_points_target)\n",
    "\n",
    "plt.figure(figsize=(3, 3))\n",
    "nx.draw(target_graph, target_locations, with_labels=True)\n",
    "plt.title('Complex Graph 1 with Node Positions')\n",
    "plt.show()"
   ]
  },
  {
   "cell_type": "code",
   "execution_count": null,
   "id": "7c3e5eb0-44b4-41b3-a5b2-5dc131350045",
   "metadata": {},
   "outputs": [],
   "source": [
    "from mpl_toolkits.mplot3d.art3d import Line3DCollection\n",
    "\n",
    "def plot_graph_matching_3D(source_graph, target_graph, P, distance_between_graphs):\n",
    "    pos_source = nx.spring_layout(source_graph)  \n",
    "    pos_target = nx.spring_layout(target_graph)  \n",
    "\n",
    "    pos_source = np.array([[pos_source[key][0], pos_source[key][1], 0] for key in pos_source.keys()])\n",
    "    pos_target = np.array([[pos_target[key][0], pos_target[key][1], distance_between_graphs] for key in pos_target.keys()])\n",
    "    \n",
    "    edges_source = list(source_graph.edges())\n",
    "    segments_source = [[pos_source[edge[0]].tolist(), pos_source[edge[1]].tolist()] for edge in edges_source]\n",
    "    \n",
    "    edges_target = list(target_graph.edges())\n",
    "    segments_target = [[pos_target[edge[0]].tolist(), pos_target[edge[1]].tolist()] for edge in edges_target]\n",
    "    \n",
    "    fig = plt.figure(figsize=(12, 6))\n",
    "    ax = fig.add_subplot(111, projection='3d')  \n",
    "    \n",
    "    line_segments_source = Line3DCollection(segments_source, colors=\"black\", lw=1, zorder=1)\n",
    "    ax.add_collection(line_segments_source)  \n",
    "    ax.scatter(pos_source[:, 0], pos_source[:, 1], pos_source[:, 2], color='blue', s=200, label='Source Nodes')\n",
    "    \n",
    "    line_segments_target = Line3DCollection(segments_target, colors=\"black\", lw=1, zorder=1)\n",
    "    ax.add_collection(line_segments_target)  \n",
    "    ax.scatter(pos_target[:, 0], pos_target[:, 1], pos_target[:, 2], color='orange', s=200, label='Target Nodes')\n",
    "\n",
    "    transport_matrix = P / P.sum(dim=1).reshape(-1, 1)\n",
    "\n",
    "    for i in range(transport_matrix.shape[0]):\n",
    "        for j in range(transport_matrix.shape[1]):\n",
    "            x1, y1, z1 = pos_source[i]\n",
    "            x2, y2, z2 = pos_target[j]\n",
    "            ax.plot([x1, x2], [y1, y2], [z1, z2], color='red', alpha=float(transport_matrix[i, j]))\n",
    "\n",
    "    ax.set_xlabel('X-axis')\n",
    "    ax.set_ylabel('Y-axis')\n",
    "    ax.set_zlabel('Z-axis')\n",
    "    ax.set_title('Graph Matching')\n",
    "    ax.legend()\n",
    "    plt.show()"
   ]
  },
  {
   "cell_type": "code",
   "execution_count": null,
   "id": "f1ac34af-d565-465a-bc93-f3fbadd145e6",
   "metadata": {},
   "outputs": [],
   "source": [
    "%matplotlib inline\n",
    "plot_graph_matching_3D(source_graph, target_graph, P, 3)"
   ]
  },
  {
   "cell_type": "markdown",
   "id": "de5280dc-876b-4bd1-8146-234d743de348",
   "metadata": {},
   "source": [
    "#### Sphere"
   ]
  },
  {
   "cell_type": "code",
   "execution_count": 1,
   "id": "22895650",
   "metadata": {},
   "outputs": [],
   "source": [
    "# Checkpoint\n",
    "from fugw_solver.solver import solver\n",
    "import torch\n",
    "from collections import defaultdict\n",
    "\n",
    "import matplotlib.pyplot as plt\n",
    "from mpl_toolkits.mplot3d import Axes3D\n",
    "import numpy as np"
   ]
  },
  {
   "cell_type": "code",
   "execution_count": 2,
   "id": "2b64c138",
   "metadata": {},
   "outputs": [],
   "source": [
    "# Functions\n",
    "\n",
    "def mises_density(A, mu, kappa=1.0):\n",
    "    cste = kappa / (4 * np.pi * np.sinh(kappa))\n",
    "    density = cste * np.exp(kappa * np.dot(A,mu.T))\n",
    "    density = density / np.sum(density)     # Normalize the density\n",
    "    return density\n",
    "\n",
    "def create_sphere(cx, cy, cz, r, resolution=360):\n",
    "    phi = np.linspace(0, 2*np.pi, 2*resolution)\n",
    "    theta = np.linspace(0, np.pi, resolution)\n",
    "    theta, phi = np.meshgrid(theta, phi)\n",
    "    r_xy = r * np.sin(theta)\n",
    "    x = cx + np.cos(phi) * r_xy\n",
    "    y = cy + np.sin(phi) * r_xy\n",
    "    z = cz + r * np.cos(theta)\n",
    "    return x, y, z\n",
    "\n",
    "def fibonacci_sphere(samples=1000, randomize=True):\n",
    "    points = []\n",
    "    phi = np.pi * (3. - np.sqrt(5.))  # golden angle in radians\n",
    "\n",
    "    if randomize:\n",
    "        theta = np.random.rand(samples) * 2 * np.pi  # random angles\n",
    "        z = np.random.rand(samples) * 2 - 1  # random z values\n",
    "    else:\n",
    "        indices = np.arange(0, samples, dtype=float) + 0.5\n",
    "        theta = phi * indices\n",
    "        z = np.linspace(1 - 1.0 / samples, 1.0 / samples - 1, samples)\n",
    "\n",
    "    radius = np.sqrt(1 - z * z)\n",
    "\n",
    "    points = np.zeros((samples, 3))\n",
    "    points[:, 0] = radius * np.cos(theta)\n",
    "    points[:, 1] = radius * np.sin(theta)\n",
    "    points[:, 2] = z\n",
    "\n",
    "    # return points\n",
    "\n",
    "    x = points[:, 0]\n",
    "    y = points[:, 1]\n",
    "    z = points[:, 2]\n",
    "\n",
    "    return x, y, z"
   ]
  },
  {
   "cell_type": "code",
   "execution_count": 3,
   "id": "3e1bede8-645f-4a4e-aa1c-d373a7c28acf",
   "metadata": {},
   "outputs": [
    {
     "ename": "",
     "evalue": "",
     "output_type": "error",
     "traceback": [
      "\u001b[1;31mThe Kernel crashed while executing code in the current cell or a previous cell. \n",
      "\u001b[1;31mPlease review the code in the cell(s) to identify a possible cause of the failure. \n",
      "\u001b[1;31mClick <a href='https://aka.ms/vscodeJupyterKernelCrash'>here</a> for more info. \n",
      "\u001b[1;31mView Jupyter <a href='command:jupyter.viewOutput'>log</a> for further details."
     ]
    }
   ],
   "source": [
    "cx, cy, cz = 0, 0, 0  # Center of the sphere\n",
    "radius = 1.0\n",
    "resolution = 30\n",
    "\n",
    "# x, y, z = create_sphere(cx, cy, cz, radius, resolution)\n",
    "x, y, z = fibonacci_sphere(samples=1000, randomize=False)\n",
    "\n",
    "kappa_1 = 5.0  \n",
    "mu_1 = np.array([0., -1., 0.])\n",
    "A = np.column_stack((x.flatten(), y.flatten(), z.flatten()))\n",
    "scalar_values_1 = mises_density(A, mu_1, kappa_1)\n",
    "\n",
    "\n",
    "kappa_2 = 10.0  \n",
    "mu_2 = np.array([0., 0., 1.])\n",
    "scalar_values_2 = mises_density(A, mu_2, kappa_2)\n",
    "\n",
    "scalar_values = 0.6 * scalar_values_1 + 0.4 * scalar_values_2\n",
    "\n",
    "print(np.sum(scalar_values))\n",
    "\n",
    "# Plot the sphere with a color gradient based on scalar values\n",
    "fig = plt.figure()\n",
    "ax = fig.add_subplot(111, projection='3d')\n",
    "scatter = ax.scatter(x, y, z, c=scalar_values, cmap='viridis', s=20)\n",
    "\n",
    "ax.set_xlabel('X-axis')\n",
    "ax.set_ylabel('Y-axis')\n",
    "ax.set_zlabel('Z-axis')\n",
    "ax.set_aspect('equal')\n",
    "ax.set_title('Sphere Plot with Mises Density')\n",
    "\n",
    "# Add a colorbar to show the density variation\n",
    "cbar = plt.colorbar(scatter, ax=ax)\n",
    "cbar.set_label('Density')\n",
    "\n",
    "plt.show()"
   ]
  },
  {
   "cell_type": "code",
   "execution_count": null,
   "id": "210181d7-ee23-451b-88d6-a397d4c1dd82",
   "metadata": {},
   "outputs": [],
   "source": [
    "scalar_values = scalar_values / np.linalg.norm(scalar_values)\n",
    "scalar_values_1 = scalar_values_1 / np.linalg.norm(scalar_values_1)\n",
    "\n",
    "source_features_normalized = torch.tensor(scalar_values, dtype=torch.float32).unsqueeze(0)\n",
    "target_features_normalized = torch.tensor(scalar_values_1, dtype=torch.float32).unsqueeze(0)\n",
    "\n",
    "print(source_features_normalized.sum(), target_features_normalized.sum())\n",
    "\n",
    "source_geometry = torch.tensor(A, dtype=torch.float32)\n",
    "source_geometry = torch.cdist(source_geometry, source_geometry)\n",
    "target_geometry = source_geometry\n",
    "\n",
    "w_s = torch.ones(source_features_normalized.shape[1], device='cpu') / source_features_normalized.shape[1]\n",
    "w_t = torch.ones(target_features_normalized.shape[1], device='cpu') / target_features_normalized.shape[1]"
   ]
  },
  {
   "cell_type": "code",
   "execution_count": null,
   "id": "304d093c-6043-43f0-b25c-b0603102611f",
   "metadata": {},
   "outputs": [],
   "source": [
    "alpha = 0.5\n",
    "rho = 1\n",
    "eps = 1e-4\n",
    "mapping = solver(alpha=alpha, rho=rho, eps=eps, \n",
    "    source_features=source_features_normalized,\n",
    "    target_features=target_features_normalized,\n",
    "    source_geometry=source_geometry,\n",
    "    target_geometry=target_geometry,\n",
    "    device='cpu',\n",
    "    w_s=w_s,\n",
    "    w_t=w_t\n",
    ")"
   ]
  },
  {
   "cell_type": "code",
   "execution_count": null,
   "id": "bd9eab0e-f63e-4f70-9334-a5554553c92e",
   "metadata": {},
   "outputs": [],
   "source": [
    "P, loss_ls = mapping\n",
    "\n",
    "loss = defaultdict(list)\n",
    "for l in loss_ls:\n",
    "    for k,v in l.items():\n",
    "        loss[k].append(v)"
   ]
  },
  {
   "cell_type": "code",
   "execution_count": null,
   "id": "e49e8f79-d806-4f5c-8fe0-533da134518a",
   "metadata": {},
   "outputs": [],
   "source": [
    "fig, ax = plt.subplots(figsize=(10, 4))\n",
    "ax.set_title(\"Mapping training loss\")\n",
    "ax.set_ylabel(\"Loss\")\n",
    "ax.set_xlabel(\"BCD step\")\n",
    "ax.stackplot(\n",
    "    np.arange(len(loss_ls)),\n",
    "    [\n",
    "        (1 - alpha) * np.array(loss[\"wasserstein\"]),\n",
    "        alpha * np.array(loss[\"gromov_wasserstein\"]),\n",
    "        rho * np.array(loss[\"marginal_constraint_dim1\"]),\n",
    "        rho * np.array(loss[\"marginal_constraint_dim2\"]),\n",
    "        eps * np.array(loss[\"regularization\"]),\n",
    "    ],\n",
    "    labels=[\n",
    "        \"wasserstein\",\n",
    "        \"gromov_wasserstein\",\n",
    "        \"marginal_constraint_dim1\",\n",
    "        \"marginal_constraint_dim2\",\n",
    "        \"regularization\",\n",
    "    ],\n",
    "    alpha=0.8,\n",
    ")\n",
    "ax.legend()\n",
    "plt.show()"
   ]
  },
  {
   "cell_type": "code",
   "execution_count": null,
   "id": "a0f39fef-2c18-4a7f-af60-8b4d57977c52",
   "metadata": {},
   "outputs": [],
   "source": [
    "fig, ax = plt.subplots(figsize=(4, 4))\n",
    "ax.set_title(\"Transport plan\")\n",
    "ax.set_xlabel(\"target vertices\")\n",
    "ax.set_ylabel(\"source vertices\")\n",
    "im = plt.imshow(P, cmap=\"viridis\")\n",
    "plt.colorbar(im, ax=ax, shrink=0.8)\n",
    "plt.show()"
   ]
  },
  {
   "cell_type": "code",
   "execution_count": null,
   "id": "2eca27c6-015b-4ff4-b896-bfb985d54656",
   "metadata": {},
   "outputs": [],
   "source": [
    "P.sum()"
   ]
  },
  {
   "cell_type": "code",
   "execution_count": null,
   "id": "e17ce38e-ecbc-4b67-9349-3e4ed657abb0",
   "metadata": {},
   "outputs": [],
   "source": [
    "predicted_features = P.T@source_features_normalized.T\n",
    "predicted_features = predicted_features.squeeze(0)"
   ]
  },
  {
   "cell_type": "code",
   "execution_count": null,
   "id": "2368377d-c246-4712-8c68-9298548e044c",
   "metadata": {},
   "outputs": [],
   "source": [
    "predicted_features.sum()"
   ]
  },
  {
   "cell_type": "code",
   "execution_count": null,
   "id": "6bfa13bf-163d-48ee-a811-4f106893415c",
   "metadata": {},
   "outputs": [],
   "source": [
    "fig = plt.figure()\n",
    "ax = fig.add_subplot(111, projection='3d')\n",
    "scatter = ax.scatter(x, y, z, c=predicted_features, cmap='viridis', s=20)\n",
    "\n",
    "ax.set_xlabel('X-axis')\n",
    "ax.set_ylabel('Y-axis')\n",
    "ax.set_zlabel('Z-axis')\n",
    "ax.set_aspect('equal')\n",
    "ax.set_title('Sphere Plot with Mises Density')\n",
    "\n",
    "# Add a colorbar to show the density variation\n",
    "cbar = plt.colorbar(scatter, ax=ax)\n",
    "cbar.set_label('Density')\n",
    "\n",
    "plt.show()"
   ]
  },
  {
   "cell_type": "code",
   "execution_count": null,
   "id": "4618a2fa-94da-4d2c-b618-f06fd430f719",
   "metadata": {},
   "outputs": [],
   "source": []
  },
  {
   "cell_type": "code",
   "execution_count": null,
   "id": "9008c4e5-3d07-4319-ada8-6d856b711829",
   "metadata": {},
   "outputs": [],
   "source": []
  },
  {
   "cell_type": "code",
   "execution_count": null,
   "id": "fcd31a51-d047-4bde-8e4a-43ccadc9e193",
   "metadata": {},
   "outputs": [],
   "source": []
  },
  {
   "cell_type": "code",
   "execution_count": null,
   "id": "036f1bb1-73d2-4e82-8a1a-eb5fa59d1073",
   "metadata": {},
   "outputs": [],
   "source": []
  },
  {
   "cell_type": "code",
   "execution_count": null,
   "id": "5a99c005-00bb-4d67-bb55-ee140e16dfe6",
   "metadata": {},
   "outputs": [],
   "source": []
  },
  {
   "cell_type": "code",
   "execution_count": null,
   "id": "3de3cfc4-281a-4672-ba04-056223584ea2",
   "metadata": {},
   "outputs": [],
   "source": []
  },
  {
   "cell_type": "code",
   "execution_count": null,
   "id": "bfde90fb-f139-41a2-b2dc-6d5603f0b66c",
   "metadata": {},
   "outputs": [],
   "source": []
  },
  {
   "cell_type": "code",
   "execution_count": null,
   "id": "6e8616ec-8053-40bf-8059-d3e3a5cce2cf",
   "metadata": {},
   "outputs": [],
   "source": []
  },
  {
   "cell_type": "code",
   "execution_count": null,
   "id": "0ceffd0a-2984-407e-b77a-faa877d6a9f7",
   "metadata": {},
   "outputs": [],
   "source": []
  }
 ],
 "metadata": {
  "kernelspec": {
   "display_name": "Python 3 (ipykernel)",
   "language": "python",
   "name": "python3"
  },
  "language_info": {
   "codemirror_mode": {
    "name": "ipython",
    "version": 3
   },
   "file_extension": ".py",
   "mimetype": "text/x-python",
   "name": "python",
   "nbconvert_exporter": "python",
   "pygments_lexer": "ipython3",
   "version": "3.11.5"
  }
 },
 "nbformat": 4,
 "nbformat_minor": 5
}
