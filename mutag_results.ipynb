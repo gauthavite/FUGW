{
 "cells": [
  {
   "cell_type": "code",
   "execution_count": 2,
   "metadata": {},
   "outputs": [],
   "source": [
    "import pandas as pd\n",
    "import json\n",
    "import numpy as np\n",
    "import networkx as nx\n",
    "import multiprocessing\n",
    "from tqdm.notebook import tqdm\n",
    "import torch\n",
    "from fugw_solver.solver import solver\n",
    "\n",
    "import ot"
   ]
  },
  {
   "cell_type": "code",
   "execution_count": 2,
   "metadata": {},
   "outputs": [
    {
     "data": {
      "text/html": [
       "<div>\n",
       "<style scoped>\n",
       "    .dataframe tbody tr th:only-of-type {\n",
       "        vertical-align: middle;\n",
       "    }\n",
       "\n",
       "    .dataframe tbody tr th {\n",
       "        vertical-align: top;\n",
       "    }\n",
       "\n",
       "    .dataframe thead th {\n",
       "        text-align: right;\n",
       "    }\n",
       "</style>\n",
       "<table border=\"1\" class=\"dataframe\">\n",
       "  <thead>\n",
       "    <tr style=\"text-align: right;\">\n",
       "      <th></th>\n",
       "      <th>alpha</th>\n",
       "      <th>rho</th>\n",
       "      <th>k</th>\n",
       "      <th>accuracy</th>\n",
       "    </tr>\n",
       "  </thead>\n",
       "  <tbody>\n",
       "    <tr>\n",
       "      <th>0</th>\n",
       "      <td>0.2</td>\n",
       "      <td>0.1</td>\n",
       "      <td>5</td>\n",
       "      <td>0.84</td>\n",
       "    </tr>\n",
       "    <tr>\n",
       "      <th>1</th>\n",
       "      <td>0.2</td>\n",
       "      <td>0.1</td>\n",
       "      <td>10</td>\n",
       "      <td>0.86</td>\n",
       "    </tr>\n",
       "    <tr>\n",
       "      <th>2</th>\n",
       "      <td>0.2</td>\n",
       "      <td>0.1</td>\n",
       "      <td>15</td>\n",
       "      <td>0.84</td>\n",
       "    </tr>\n",
       "    <tr>\n",
       "      <th>3</th>\n",
       "      <td>0.3</td>\n",
       "      <td>0.1</td>\n",
       "      <td>5</td>\n",
       "      <td>0.82</td>\n",
       "    </tr>\n",
       "    <tr>\n",
       "      <th>4</th>\n",
       "      <td>0.3</td>\n",
       "      <td>0.1</td>\n",
       "      <td>10</td>\n",
       "      <td>0.87</td>\n",
       "    </tr>\n",
       "    <tr>\n",
       "      <th>...</th>\n",
       "      <td>...</td>\n",
       "      <td>...</td>\n",
       "      <td>...</td>\n",
       "      <td>...</td>\n",
       "    </tr>\n",
       "    <tr>\n",
       "      <th>70</th>\n",
       "      <td>0.5</td>\n",
       "      <td>1000.0</td>\n",
       "      <td>10</td>\n",
       "      <td>0.80</td>\n",
       "    </tr>\n",
       "    <tr>\n",
       "      <th>71</th>\n",
       "      <td>0.5</td>\n",
       "      <td>1000.0</td>\n",
       "      <td>15</td>\n",
       "      <td>0.82</td>\n",
       "    </tr>\n",
       "    <tr>\n",
       "      <th>72</th>\n",
       "      <td>0.6</td>\n",
       "      <td>1000.0</td>\n",
       "      <td>5</td>\n",
       "      <td>0.86</td>\n",
       "    </tr>\n",
       "    <tr>\n",
       "      <th>73</th>\n",
       "      <td>0.6</td>\n",
       "      <td>1000.0</td>\n",
       "      <td>10</td>\n",
       "      <td>0.79</td>\n",
       "    </tr>\n",
       "    <tr>\n",
       "      <th>74</th>\n",
       "      <td>0.6</td>\n",
       "      <td>1000.0</td>\n",
       "      <td>15</td>\n",
       "      <td>0.84</td>\n",
       "    </tr>\n",
       "  </tbody>\n",
       "</table>\n",
       "<p>75 rows × 4 columns</p>\n",
       "</div>"
      ],
      "text/plain": [
       "    alpha     rho   k  accuracy\n",
       "0     0.2     0.1   5      0.84\n",
       "1     0.2     0.1  10      0.86\n",
       "2     0.2     0.1  15      0.84\n",
       "3     0.3     0.1   5      0.82\n",
       "4     0.3     0.1  10      0.87\n",
       "..    ...     ...  ..       ...\n",
       "70    0.5  1000.0  10      0.80\n",
       "71    0.5  1000.0  15      0.82\n",
       "72    0.6  1000.0   5      0.86\n",
       "73    0.6  1000.0  10      0.79\n",
       "74    0.6  1000.0  15      0.84\n",
       "\n",
       "[75 rows x 4 columns]"
      ]
     },
     "execution_count": 2,
     "metadata": {},
     "output_type": "execute_result"
    }
   ],
   "source": [
    "df = pd.read_csv(\"results/run.csv\")\n",
    "df"
   ]
  },
  {
   "cell_type": "code",
   "execution_count": 3,
   "metadata": {},
   "outputs": [
    {
     "data": {
      "text/html": [
       "<div>\n",
       "<style scoped>\n",
       "    .dataframe tbody tr th:only-of-type {\n",
       "        vertical-align: middle;\n",
       "    }\n",
       "\n",
       "    .dataframe tbody tr th {\n",
       "        vertical-align: top;\n",
       "    }\n",
       "\n",
       "    .dataframe thead th {\n",
       "        text-align: right;\n",
       "    }\n",
       "</style>\n",
       "<table border=\"1\" class=\"dataframe\">\n",
       "  <thead>\n",
       "    <tr style=\"text-align: right;\">\n",
       "      <th></th>\n",
       "      <th>alpha</th>\n",
       "      <th>k</th>\n",
       "      <th>accuracy</th>\n",
       "    </tr>\n",
       "    <tr>\n",
       "      <th>rho</th>\n",
       "      <th></th>\n",
       "      <th></th>\n",
       "      <th></th>\n",
       "    </tr>\n",
       "  </thead>\n",
       "  <tbody>\n",
       "    <tr>\n",
       "      <th>0.1</th>\n",
       "      <td>0.4</td>\n",
       "      <td>10.0</td>\n",
       "      <td>0.860667</td>\n",
       "    </tr>\n",
       "    <tr>\n",
       "      <th>1.0</th>\n",
       "      <td>0.4</td>\n",
       "      <td>10.0</td>\n",
       "      <td>0.880000</td>\n",
       "    </tr>\n",
       "    <tr>\n",
       "      <th>10.0</th>\n",
       "      <td>0.4</td>\n",
       "      <td>10.0</td>\n",
       "      <td>0.886667</td>\n",
       "    </tr>\n",
       "    <tr>\n",
       "      <th>100.0</th>\n",
       "      <td>0.4</td>\n",
       "      <td>10.0</td>\n",
       "      <td>0.858667</td>\n",
       "    </tr>\n",
       "    <tr>\n",
       "      <th>1000.0</th>\n",
       "      <td>0.4</td>\n",
       "      <td>10.0</td>\n",
       "      <td>0.816667</td>\n",
       "    </tr>\n",
       "  </tbody>\n",
       "</table>\n",
       "</div>"
      ],
      "text/plain": [
       "        alpha     k  accuracy\n",
       "rho                          \n",
       "0.1       0.4  10.0  0.860667\n",
       "1.0       0.4  10.0  0.880000\n",
       "10.0      0.4  10.0  0.886667\n",
       "100.0     0.4  10.0  0.858667\n",
       "1000.0    0.4  10.0  0.816667"
      ]
     },
     "execution_count": 3,
     "metadata": {},
     "output_type": "execute_result"
    }
   ],
   "source": [
    "df.groupby(by=\"rho\").mean()"
   ]
  },
  {
   "cell_type": "code",
   "execution_count": 4,
   "metadata": {},
   "outputs": [
    {
     "data": {
      "text/plain": [
       "alpha          0.60\n",
       "rho         1000.00\n",
       "k              5.00\n",
       "accuracy       0.86\n",
       "Name: 72, dtype: float64"
      ]
     },
     "execution_count": 4,
     "metadata": {},
     "output_type": "execute_result"
    }
   ],
   "source": [
    "fgw = df[df[\"rho\"] == 1000]\n",
    "ind_fgw = fgw[\"accuracy\"].argmax()\n",
    "fgw_best = fgw.iloc[ind_fgw, :]\n",
    "fgw_best"
   ]
  },
  {
   "cell_type": "code",
   "execution_count": 5,
   "metadata": {},
   "outputs": [
    {
     "data": {
      "text/plain": [
       "alpha       0.40\n",
       "rho         1.00\n",
       "k           5.00\n",
       "accuracy    0.91\n",
       "Name: 21, dtype: float64"
      ]
     },
     "execution_count": 5,
     "metadata": {},
     "output_type": "execute_result"
    }
   ],
   "source": [
    "ind_fugw = df[\"accuracy\"].argmax()\n",
    "fugw_best = df.iloc[ind_fugw, :]\n",
    "fugw_best"
   ]
  },
  {
   "cell_type": "code",
   "execution_count": 6,
   "metadata": {},
   "outputs": [],
   "source": [
    "def adjacency_to_distance_matrix(adj):\n",
    "    G = nx.from_numpy_array(adj, create_using=nx.DiGraph)\n",
    "    length = dict(nx.all_pairs_shortest_path_length(G))\n",
    "    num_nodes = adj.shape[0]\n",
    "    distance_matrix = np.zeros((num_nodes, num_nodes))\n",
    "    \n",
    "    for i in range(num_nodes):\n",
    "        for j in range(num_nodes):\n",
    "            try:\n",
    "                distance_matrix[i, j] = length[i][j]\n",
    "            except KeyError:  # no path between i and j\n",
    "                distance_matrix[i, j] = np.inf  # or some large number to denote no path\n",
    "    return distance_matrix\n",
    "\n",
    "with open(\"dataset/mutag.json\", 'r') as f:\n",
    "    data = json.load(f)\n",
    "\n",
    "features = data[\"node_feat\"]\n",
    "y = data[\"y\"]\n",
    "y = list(map(lambda x: x[0], y))\n",
    "distance_matrices = []\n",
    "for (sources, targets), num_nodes in zip(data[\"edge_index\"], data[\"num_nodes\"]):\n",
    "    adj = np.zeros((num_nodes, num_nodes))\n",
    "    adj[sources, targets] = 1\n",
    "    distance_matrix = adjacency_to_distance_matrix(adj)\n",
    "    distance_matrices.append(distance_matrix)\n",
    "\n",
    "TRAIN_SIZE = 100\n",
    "features_test = features[TRAIN_SIZE:]\n",
    "y_test = y[TRAIN_SIZE:]\n",
    "distance_matrices_test = distance_matrices[TRAIN_SIZE:]"
   ]
  },
  {
   "cell_type": "code",
   "execution_count": null,
   "metadata": {},
   "outputs": [],
   "source": [
    "predict((0,5,None,0.5,features_test, distance_matrices_test, y_test, True))"
   ]
  },
  {
   "cell_type": "code",
   "execution_count": 19,
   "metadata": {},
   "outputs": [],
   "source": [
    "def predict(args):\n",
    "    \"\"\"Predicts the class of the i-th molecule using a k-NN\"\"\"\n",
    "    i, k, rho, alpha, features, distance_matrices, y, pot = args\n",
    "    source_features = torch.tensor(features[i]).T.float()\n",
    "    source_geometry = torch.tensor(distance_matrices[i]).float()\n",
    "    distances = []\n",
    "\n",
    "    for j, (target_features, target_geometry, classif) in enumerate(zip(features, distance_matrices, y)):\n",
    "        if j == i:\n",
    "            continue\n",
    "        target_features = torch.tensor(target_features).T.float()\n",
    "        target_geometry = torch.tensor(target_geometry).float()\n",
    "    \n",
    "        if pot:\n",
    "            C1 = ot.dist(source_geometry)\n",
    "            C2 = ot.dist(target_geometry)\n",
    "            M = ot.dist(source_features.T, target_features.T)\n",
    "            Gwg, logw = ot.fused_gromov_wasserstein(M, C1, C2, log=True, alpha=alpha)\n",
    "            loss = logw[\"fgw_dist\"]\n",
    "        else:\n",
    "            P, loss_ls = solver(source_features, target_features, source_geometry, target_geometry, rho=rho, alpha=alpha, nits_bcd=10, nits_uot=100)\n",
    "            loss = loss_ls[-1][\"total\"]\n",
    "        distances.append((loss, classif))\n",
    "\n",
    "    distances.sort(key=lambda x: x[0])\n",
    "    distances = distances[:k]\n",
    "    classes = list(map(lambda x: x[1], distances))\n",
    "    return 1 if sum(classes) >= (len(classes)/2) else 0\n",
    "\n",
    "# Multiprocessing\n",
    "def knn(rho, alpha, k, features, distance_matrices, y, pot=False):\n",
    "    accuracy = 0\n",
    "    n = len(features)\n",
    "    # print(f\"Starting the knn for rho={rho}, alpha={alpha}, k={k}\")\n",
    "    args = [(i, k, rho, alpha, features, distance_matrices, y, pot) for i in range(n)]  # Prepare arguments for each process\n",
    "    with multiprocessing.Pool(processes=multiprocessing.cpu_count()) as pool:\n",
    "        predictions = list(tqdm(pool.imap(predict, args), total=n))\n",
    "\n",
    "    # Calculate accuracy based on the returned predictions\n",
    "    for i, prediction in enumerate(predictions):\n",
    "        accuracy += (prediction == y[i])\n",
    "    accuracy /= n\n",
    "    print(f\"The accuracy with rho={rho}, alpha={alpha}, k={k}{', with pot' if pot else ''}, is {accuracy}\")\n",
    "    return accuracy"
   ]
  },
  {
   "cell_type": "code",
   "execution_count": 21,
   "metadata": {},
   "outputs": [
    {
     "data": {
      "application/vnd.jupyter.widget-view+json": {
       "model_id": "2cb6c9c512f440bebf446e88fdfbccf3",
       "version_major": 2,
       "version_minor": 0
      },
      "text/plain": [
       "  0%|          | 0/88 [00:00<?, ?it/s]"
      ]
     },
     "metadata": {},
     "output_type": "display_data"
    },
    {
     "name": "stdout",
     "output_type": "stream",
     "text": [
      "The accuracy with rho=1000.0, alpha=0.6, k=5, is 0.7272727272727273\n"
     ]
    },
    {
     "data": {
      "application/vnd.jupyter.widget-view+json": {
       "model_id": "5bcc7139708746c2bcf90b7f6ff55c8d",
       "version_major": 2,
       "version_minor": 0
      },
      "text/plain": [
       "  0%|          | 0/88 [00:00<?, ?it/s]"
      ]
     },
     "metadata": {},
     "output_type": "display_data"
    },
    {
     "name": "stdout",
     "output_type": "stream",
     "text": [
      "The accuracy with rho=1.0, alpha=0.4, k=5, is 0.7613636363636364\n"
     ]
    },
    {
     "data": {
      "text/plain": [
       "(0.7272727272727273, 0.7613636363636364)"
      ]
     },
     "execution_count": 21,
     "metadata": {},
     "output_type": "execute_result"
    }
   ],
   "source": [
    "test_accuracy_fgw = knn(rho=fgw_best.iloc[1], alpha=fgw_best.iloc[0], k=int(fgw_best.iloc[2]), features=features_test, distance_matrices=distance_matrices_test, y=y_test)\n",
    "test_accuracy_fugw = knn(rho=fugw_best.iloc[1], alpha=fugw_best.iloc[0], k=int(fugw_best.iloc[2]), features=features_test, distance_matrices=distance_matrices_test, y=y_test)\n",
    "test_accuracy_fgw, test_accuracy_fugw"
   ]
  },
  {
   "cell_type": "markdown",
   "metadata": {},
   "source": [
    "### Comparaison with the pot solver"
   ]
  },
  {
   "cell_type": "code",
   "execution_count": 24,
   "metadata": {},
   "outputs": [
    {
     "data": {
      "text/html": [
       "<div>\n",
       "<style scoped>\n",
       "    .dataframe tbody tr th:only-of-type {\n",
       "        vertical-align: middle;\n",
       "    }\n",
       "\n",
       "    .dataframe tbody tr th {\n",
       "        vertical-align: top;\n",
       "    }\n",
       "\n",
       "    .dataframe thead th {\n",
       "        text-align: right;\n",
       "    }\n",
       "</style>\n",
       "<table border=\"1\" class=\"dataframe\">\n",
       "  <thead>\n",
       "    <tr style=\"text-align: right;\">\n",
       "      <th></th>\n",
       "      <th>alpha</th>\n",
       "      <th>k</th>\n",
       "      <th>accuracy</th>\n",
       "    </tr>\n",
       "  </thead>\n",
       "  <tbody>\n",
       "    <tr>\n",
       "      <th>0</th>\n",
       "      <td>0.2</td>\n",
       "      <td>5</td>\n",
       "      <td>0.88</td>\n",
       "    </tr>\n",
       "    <tr>\n",
       "      <th>1</th>\n",
       "      <td>0.2</td>\n",
       "      <td>10</td>\n",
       "      <td>0.86</td>\n",
       "    </tr>\n",
       "    <tr>\n",
       "      <th>2</th>\n",
       "      <td>0.2</td>\n",
       "      <td>15</td>\n",
       "      <td>0.87</td>\n",
       "    </tr>\n",
       "    <tr>\n",
       "      <th>3</th>\n",
       "      <td>0.3</td>\n",
       "      <td>5</td>\n",
       "      <td>0.88</td>\n",
       "    </tr>\n",
       "    <tr>\n",
       "      <th>4</th>\n",
       "      <td>0.3</td>\n",
       "      <td>10</td>\n",
       "      <td>0.86</td>\n",
       "    </tr>\n",
       "    <tr>\n",
       "      <th>5</th>\n",
       "      <td>0.3</td>\n",
       "      <td>15</td>\n",
       "      <td>0.87</td>\n",
       "    </tr>\n",
       "    <tr>\n",
       "      <th>6</th>\n",
       "      <td>0.4</td>\n",
       "      <td>5</td>\n",
       "      <td>0.88</td>\n",
       "    </tr>\n",
       "    <tr>\n",
       "      <th>7</th>\n",
       "      <td>0.4</td>\n",
       "      <td>10</td>\n",
       "      <td>0.86</td>\n",
       "    </tr>\n",
       "    <tr>\n",
       "      <th>8</th>\n",
       "      <td>0.4</td>\n",
       "      <td>15</td>\n",
       "      <td>0.87</td>\n",
       "    </tr>\n",
       "    <tr>\n",
       "      <th>9</th>\n",
       "      <td>0.5</td>\n",
       "      <td>5</td>\n",
       "      <td>0.88</td>\n",
       "    </tr>\n",
       "    <tr>\n",
       "      <th>10</th>\n",
       "      <td>0.5</td>\n",
       "      <td>10</td>\n",
       "      <td>0.86</td>\n",
       "    </tr>\n",
       "    <tr>\n",
       "      <th>11</th>\n",
       "      <td>0.5</td>\n",
       "      <td>15</td>\n",
       "      <td>0.87</td>\n",
       "    </tr>\n",
       "    <tr>\n",
       "      <th>12</th>\n",
       "      <td>0.6</td>\n",
       "      <td>5</td>\n",
       "      <td>0.88</td>\n",
       "    </tr>\n",
       "    <tr>\n",
       "      <th>13</th>\n",
       "      <td>0.6</td>\n",
       "      <td>10</td>\n",
       "      <td>0.86</td>\n",
       "    </tr>\n",
       "    <tr>\n",
       "      <th>14</th>\n",
       "      <td>0.6</td>\n",
       "      <td>15</td>\n",
       "      <td>0.87</td>\n",
       "    </tr>\n",
       "  </tbody>\n",
       "</table>\n",
       "</div>"
      ],
      "text/plain": [
       "    alpha   k  accuracy\n",
       "0     0.2   5      0.88\n",
       "1     0.2  10      0.86\n",
       "2     0.2  15      0.87\n",
       "3     0.3   5      0.88\n",
       "4     0.3  10      0.86\n",
       "5     0.3  15      0.87\n",
       "6     0.4   5      0.88\n",
       "7     0.4  10      0.86\n",
       "8     0.4  15      0.87\n",
       "9     0.5   5      0.88\n",
       "10    0.5  10      0.86\n",
       "11    0.5  15      0.87\n",
       "12    0.6   5      0.88\n",
       "13    0.6  10      0.86\n",
       "14    0.6  15      0.87"
      ]
     },
     "execution_count": 24,
     "metadata": {},
     "output_type": "execute_result"
    }
   ],
   "source": [
    "df_ot = pd.read_csv(\"results/run_ot.csv\")\n",
    "df_ot"
   ]
  },
  {
   "cell_type": "code",
   "execution_count": 25,
   "metadata": {},
   "outputs": [
    {
     "data": {
      "text/plain": [
       "[0.2, 5.0, 0.88]"
      ]
     },
     "execution_count": 25,
     "metadata": {},
     "output_type": "execute_result"
    }
   ],
   "source": [
    "ind_ot_fugw = df_ot[\"accuracy\"].argmax()\n",
    "fgw_ot_best = df_ot.iloc[ind_ot_fugw, :]\n",
    "fgw_ot_best.to_list()"
   ]
  },
  {
   "cell_type": "code",
   "execution_count": 26,
   "metadata": {},
   "outputs": [
    {
     "name": "stderr",
     "output_type": "stream",
     "text": [
      "/tmp/ipykernel_918826/3950999299.py:1: FutureWarning: Series.__getitem__ treating keys as positions is deprecated. In a future version, integer keys will always be treated as labels (consistent with DataFrame behavior). To access a value by position, use `ser.iloc[pos]`\n",
      "  test_accuracy_fgw_pot = knn(rho=\"not_used\", alpha=fgw_ot_best[0], k=int(fgw_ot_best[1]), features=features_test, distance_matrices=distance_matrices_test, y=y_test, pot=True)\n"
     ]
    },
    {
     "data": {
      "application/vnd.jupyter.widget-view+json": {
       "model_id": "d0fec28e9cc542679a7e6651b453041f",
       "version_major": 2,
       "version_minor": 0
      },
      "text/plain": [
       "  0%|          | 0/88 [00:00<?, ?it/s]"
      ]
     },
     "metadata": {},
     "output_type": "display_data"
    },
    {
     "name": "stdout",
     "output_type": "stream",
     "text": [
      "The accuracy with rho=not_used, alpha=0.2, k=5, with pot, is 0.6931818181818182\n"
     ]
    },
    {
     "data": {
      "text/plain": [
       "0.6931818181818182"
      ]
     },
     "execution_count": 26,
     "metadata": {},
     "output_type": "execute_result"
    }
   ],
   "source": [
    "test_accuracy_fgw_pot = knn(rho=\"not_used\", alpha=fgw_ot_best[0], k=int(fgw_ot_best[1]), features=features_test, distance_matrices=distance_matrices_test, y=y_test, pot=True)\n",
    "test_accuracy_fgw_pot"
   ]
  },
  {
   "cell_type": "markdown",
   "metadata": {},
   "source": [
    "### Leave One Out"
   ]
  },
  {
   "cell_type": "code",
   "execution_count": 48,
   "metadata": {},
   "outputs": [],
   "source": [
    "import matplotlib.pyplot as plt"
   ]
  },
  {
   "cell_type": "code",
   "execution_count": 49,
   "metadata": {},
   "outputs": [
    {
     "data": {
      "text/html": [
       "<div>\n",
       "<style scoped>\n",
       "    .dataframe tbody tr th:only-of-type {\n",
       "        vertical-align: middle;\n",
       "    }\n",
       "\n",
       "    .dataframe tbody tr th {\n",
       "        vertical-align: top;\n",
       "    }\n",
       "\n",
       "    .dataframe thead th {\n",
       "        text-align: right;\n",
       "    }\n",
       "</style>\n",
       "<table border=\"1\" class=\"dataframe\">\n",
       "  <thead>\n",
       "    <tr style=\"text-align: right;\">\n",
       "      <th></th>\n",
       "      <th>alpha</th>\n",
       "      <th>rho</th>\n",
       "      <th>k</th>\n",
       "      <th>accuracy</th>\n",
       "    </tr>\n",
       "  </thead>\n",
       "  <tbody>\n",
       "    <tr>\n",
       "      <th>0</th>\n",
       "      <td>0.3</td>\n",
       "      <td>0.1</td>\n",
       "      <td>5</td>\n",
       "      <td>0.813830</td>\n",
       "    </tr>\n",
       "    <tr>\n",
       "      <th>1</th>\n",
       "      <td>0.3</td>\n",
       "      <td>0.1</td>\n",
       "      <td>10</td>\n",
       "      <td>0.819149</td>\n",
       "    </tr>\n",
       "    <tr>\n",
       "      <th>2</th>\n",
       "      <td>0.3</td>\n",
       "      <td>0.1</td>\n",
       "      <td>15</td>\n",
       "      <td>0.835106</td>\n",
       "    </tr>\n",
       "    <tr>\n",
       "      <th>3</th>\n",
       "      <td>0.4</td>\n",
       "      <td>0.1</td>\n",
       "      <td>5</td>\n",
       "      <td>0.808511</td>\n",
       "    </tr>\n",
       "    <tr>\n",
       "      <th>4</th>\n",
       "      <td>0.4</td>\n",
       "      <td>0.1</td>\n",
       "      <td>10</td>\n",
       "      <td>0.819149</td>\n",
       "    </tr>\n",
       "    <tr>\n",
       "      <th>...</th>\n",
       "      <td>...</td>\n",
       "      <td>...</td>\n",
       "      <td>...</td>\n",
       "      <td>...</td>\n",
       "    </tr>\n",
       "    <tr>\n",
       "      <th>5</th>\n",
       "      <td>0.9</td>\n",
       "      <td>10.0</td>\n",
       "      <td>5</td>\n",
       "      <td>0.861702</td>\n",
       "    </tr>\n",
       "    <tr>\n",
       "      <th>6</th>\n",
       "      <td>0.1</td>\n",
       "      <td>100.0</td>\n",
       "      <td>5</td>\n",
       "      <td>0.856383</td>\n",
       "    </tr>\n",
       "    <tr>\n",
       "      <th>7</th>\n",
       "      <td>0.9</td>\n",
       "      <td>100.0</td>\n",
       "      <td>5</td>\n",
       "      <td>0.835106</td>\n",
       "    </tr>\n",
       "    <tr>\n",
       "      <th>8</th>\n",
       "      <td>0.1</td>\n",
       "      <td>1000.0</td>\n",
       "      <td>5</td>\n",
       "      <td>0.840426</td>\n",
       "    </tr>\n",
       "    <tr>\n",
       "      <th>9</th>\n",
       "      <td>0.9</td>\n",
       "      <td>1000.0</td>\n",
       "      <td>5</td>\n",
       "      <td>0.840426</td>\n",
       "    </tr>\n",
       "  </tbody>\n",
       "</table>\n",
       "<p>115 rows × 4 columns</p>\n",
       "</div>"
      ],
      "text/plain": [
       "    alpha     rho   k  accuracy\n",
       "0     0.3     0.1   5  0.813830\n",
       "1     0.3     0.1  10  0.819149\n",
       "2     0.3     0.1  15  0.835106\n",
       "3     0.4     0.1   5  0.808511\n",
       "4     0.4     0.1  10  0.819149\n",
       "..    ...     ...  ..       ...\n",
       "5     0.9    10.0   5  0.861702\n",
       "6     0.1   100.0   5  0.856383\n",
       "7     0.9   100.0   5  0.835106\n",
       "8     0.1  1000.0   5  0.840426\n",
       "9     0.9  1000.0   5  0.840426\n",
       "\n",
       "[115 rows x 4 columns]"
      ]
     },
     "execution_count": 49,
     "metadata": {},
     "output_type": "execute_result"
    }
   ],
   "source": [
    "df_loo = pd.concat([pd.read_csv(\"results/run_loo.csv\"), pd.read_csv(\"results/run_loo_2.csv\"), pd.read_csv(\"results/run_loo_3.csv\")])\n",
    "df_loo"
   ]
  },
  {
   "cell_type": "code",
   "execution_count": 50,
   "metadata": {},
   "outputs": [
    {
     "data": {
      "text/plain": [
       "k\n",
       "5     0.831797\n",
       "10    0.825988\n",
       "15    0.818845\n",
       "Name: accuracy, dtype: float64"
      ]
     },
     "execution_count": 50,
     "metadata": {},
     "output_type": "execute_result"
    }
   ],
   "source": [
    "df_loo.groupby(\"k\").mean()[\"accuracy\"]"
   ]
  },
  {
   "cell_type": "code",
   "execution_count": 51,
   "metadata": {},
   "outputs": [
    {
     "data": {
      "text/plain": [
       "rho\n",
       "0.1       0.819611\n",
       "1.0       0.840657\n",
       "10.0      0.841582\n",
       "100.0     0.821924\n",
       "1000.0    0.806660\n",
       "Name: accuracy, dtype: float64"
      ]
     },
     "execution_count": 51,
     "metadata": {},
     "output_type": "execute_result"
    }
   ],
   "source": [
    "df_loo.groupby(\"rho\").mean()[\"accuracy\"]"
   ]
  },
  {
   "cell_type": "code",
   "execution_count": 52,
   "metadata": {},
   "outputs": [
    {
     "data": {
      "text/plain": [
       "alpha\n",
       "0.1    0.840426\n",
       "0.2    0.821986\n",
       "0.3    0.816667\n",
       "0.4    0.820567\n",
       "0.5    0.825887\n",
       "0.6    0.830496\n",
       "0.7    0.831560\n",
       "0.8    0.827660\n",
       "0.9    0.835106\n",
       "Name: accuracy, dtype: float64"
      ]
     },
     "execution_count": 52,
     "metadata": {},
     "output_type": "execute_result"
    }
   ],
   "source": [
    "df_loo.groupby(\"alpha\").mean()[\"accuracy\"]"
   ]
  },
  {
   "cell_type": "code",
   "execution_count": 53,
   "metadata": {},
   "outputs": [
    {
     "data": {
      "text/plain": [
       "alpha       0.60000\n",
       "rho         1.00000\n",
       "k           5.00000\n",
       "accuracy    0.87234\n",
       "Name: 24, dtype: float64"
      ]
     },
     "execution_count": 53,
     "metadata": {},
     "output_type": "execute_result"
    }
   ],
   "source": [
    "ind_best = df_loo[\"accuracy\"].argmax()\n",
    "best_acc = df_loo.iloc[ind_best, :]\n",
    "best_acc"
   ]
  },
  {
   "cell_type": "code",
   "execution_count": 56,
   "metadata": {},
   "outputs": [],
   "source": [
    "df_5 = df_loo[df_loo[\"k\"] == 5]\n",
    "df_5 = df_5[df_5[\"alpha\"] > 0.15]\n",
    "df_5 = df_5.sort_values(\"alpha\")"
   ]
  },
  {
   "cell_type": "code",
   "execution_count": 64,
   "metadata": {},
   "outputs": [
    {
     "data": {
      "image/png": "[encoded data removed]",
      "text/plain": [
       "<Figure size 640x480 with 1 Axes>"
      ]
     },
     "metadata": {},
     "output_type": "display_data"
    }
   ],
   "source": [
    "for i, (rho, df) in enumerate(df_5.groupby(\"rho\")):\n",
    "    plt.plot(df[\"alpha\"], df[\"accuracy\"], label=f\"rho={rho}\")\n",
    "plt.legend()\n",
    "plt.xlabel(\"alpha\")\n",
    "plt.ylabel(\"accuracy\")\n",
    "plt.savefig(\"figures/mutag_alpha.png\")\n",
    "plt.show()"
   ]
  },
  {
   "cell_type": "code",
   "execution_count": null,
   "metadata": {},
   "outputs": [],
   "source": []
  }
 ],
 "metadata": {
  "kernelspec": {
   "display_name": "venv",
   "language": "python",
   "name": "python3"
  },
  "language_info": {
   "codemirror_mode": {
    "name": "ipython",
    "version": 3
   },
   "file_extension": ".py",
   "mimetype": "text/x-python",
   "name": "python",
   "nbconvert_exporter": "python",
   "pygments_lexer": "ipython3",
   "version": "3.9.18"
  }
 },
 "nbformat": 4,
 "nbformat_minor": 2
}
