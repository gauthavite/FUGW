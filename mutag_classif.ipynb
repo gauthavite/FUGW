{
 "cells": [
  {
   "cell_type": "code",
   "execution_count": 38,
   "metadata": {},
   "outputs": [],
   "source": [
    "import json \n",
    "import numpy as np \n",
    "import torch\n",
    "from tqdm.notebook import tqdm \n",
    "\n",
    "from fugw_solver.solver import solver\n",
    "\n",
    "# from collections import defaultdict\n",
    "# data = defaultdict(list)\n",
    "# with open(\"dataset/full.jsonl\", 'r') as file:\n",
    "#     for line in file:\n",
    "#         j = json.loads(line)\n",
    "#         for k,v in j.items():\n",
    "#             data[k].append(v)\n",
    "\n",
    "# with open(\"dataset/mutag.json\", 'w') as f:\n",
    "#     json.dump(data, f)\n",
    "\n",
    "with open(\"dataset/mutag.json\", 'r') as f:\n",
    "    data = json.load(f)"
   ]
  },
  {
   "cell_type": "code",
   "execution_count": null,
   "metadata": {},
   "outputs": [],
   "source": [
    "### Hyperparameter\n",
    "k = 10"
   ]
  },
  {
   "cell_type": "code",
   "execution_count": 39,
   "metadata": {},
   "outputs": [],
   "source": [
    "features = data[\"node_feat\"]\n",
    "n = len(features)\n",
    "y = data[\"y\"]\n",
    "adjacencies = []\n",
    "for (sources, targets), num_nodes in zip(data[\"edge_index\"], data[\"num_nodes\"]):\n",
    "    adj = np.zeros((num_nodes, num_nodes))\n",
    "    adj[sources, targets] = 1\n",
    "    adjacencies.append(adj)"
   ]
  },
  {
   "cell_type": "code",
   "execution_count": 40,
   "metadata": {},
   "outputs": [
    {
     "name": "stderr",
     "output_type": "stream",
     "text": [
      "/Users/gauthieravite/Documents/FUGW/fugw_solver/solver.py:16: UserWarning: To copy construct from a tensor, it is recommended to use sourceTensor.clone().detach() or sourceTensor.clone().detach().requires_grad_(True), rather than torch.tensor(sourceTensor).\n",
      "  F_s = torch.tensor(source_features.T, device=device)\n",
      "/Users/gauthieravite/Documents/FUGW/fugw_solver/solver.py:17: UserWarning: To copy construct from a tensor, it is recommended to use sourceTensor.clone().detach() or sourceTensor.clone().detach().requires_grad_(True), rather than torch.tensor(sourceTensor).\n",
      "  F_t = torch.tensor(target_features.T, device=device)\n",
      "/Users/gauthieravite/Documents/FUGW/fugw_solver/solver.py:19: UserWarning: To copy construct from a tensor, it is recommended to use sourceTensor.clone().detach() or sourceTensor.clone().detach().requires_grad_(True), rather than torch.tensor(sourceTensor).\n",
      "  D_s = torch.tensor(source_geometry, device=device)\n",
      "/Users/gauthieravite/Documents/FUGW/fugw_solver/solver.py:20: UserWarning: To copy construct from a tensor, it is recommended to use sourceTensor.clone().detach() or sourceTensor.clone().detach().requires_grad_(True), rather than torch.tensor(sourceTensor).\n",
      "  D_t = torch.tensor(target_geometry, device=device)\n"
     ]
    }
   ],
   "source": [
    "# Test\n",
    "source_features = torch.tensor(features[0]).T.float()\n",
    "target_features = torch.tensor(features[1]).T.float()\n",
    "source_geometry = torch.tensor(adjacencies[0]).float()\n",
    "target_geometry = torch.tensor(adjacencies[1]).float()\n",
    "P, _ = solver(source_features, target_features, source_geometry, target_geometry)"
   ]
  },
  {
   "cell_type": "code",
   "execution_count": 41,
   "metadata": {},
   "outputs": [],
   "source": [
    "def predict(i : int, k:int):\n",
    "    \"\"\"Predicts the class of the i-th molecule using a k-NN\"\"\"\n",
    "    source_features = torch.tensor(features[i]).T.float()\n",
    "    source_geometry = torch.tensor(adjacencies[i]).float()\n",
    "    distances = []\n",
    "    for j, (target_features, target_geometry, classif) in enumerate(zip(features, adjacencies, y)):\n",
    "        if j == i:\n",
    "            continue\n",
    "        target_features = torch.tensor(target_features).T.float()\n",
    "        target_geometry = torch.tensor(target_geometry).float()\n",
    "        P, loss_ls = solver(source_features, target_features, source_geometry, target_geometry)\n",
    "        distances.append((loss_ls[-1][\"total\"], classif))\n",
    "\n",
    "    distances.sort(key=lambda x: x[0])[:k]\n",
    "    classes = list(map(lambda x: x[1], distances))\n",
    "\n",
    "    return 1 if classes.sum() >= classes.len() / 2 else 0"
   ]
  },
  {
   "cell_type": "code",
   "execution_count": 37,
   "metadata": {},
   "outputs": [
    {
     "data": {
      "application/vnd.jupyter.widget-view+json": {
       "model_id": "22922110464e4c29bfe0ebf2beaa8fbe",
       "version_major": 2,
       "version_minor": 0
      },
      "text/plain": [
       "  0%|          | 0/188 [00:00<?, ?it/s]"
      ]
     },
     "metadata": {},
     "output_type": "display_data"
    },
    {
     "name": "stdout",
     "output_type": "stream",
     "text": [
      "[(0.06419955939054489, [1]), (0.06487367302179337, [1]), (0.06515702605247498, [0]), (0.06634815782308578, [1]), (0.0664997473359108, [1]), (0.06671404838562012, [1]), (0.06969169527292252, [1]), (0.07133197784423828, [0]), (0.0724690854549408, [1]), (0.07282775640487671, [1]), (0.07407000660896301, [1]), (0.07407359778881073, [0]), (0.07420247048139572, [1]), (0.07486270368099213, [1]), (0.07560259848833084, [1]), (0.07593537867069244, [1]), (0.07616717368364334, [1]), (0.07617349177598953, [1]), (0.07649390399456024, [1]), (0.07736552506685257, [1]), (0.07776779681444168, [1]), (0.08406314998865128, [0]), (0.08515909314155579, [1]), (0.08553212881088257, [0]), (0.08859428018331528, [1]), (0.08919382095336914, [1]), (0.09020604938268661, [1]), (0.09183632582426071, [1]), (0.09422758221626282, [0]), (0.09580327570438385, [0]), (0.09617015719413757, [0]), (0.09663026034832001, [1]), (0.09749879688024521, [1]), (0.09752039611339569, [1]), (0.09753091633319855, [1]), (0.09803937375545502, [1]), (0.09877964109182358, [0]), (0.09887367486953735, [1]), (0.10213961452245712, [0]), (0.10215921700000763, [0]), (0.10345909744501114, [0]), (0.10429023206233978, [0]), (0.1061953604221344, [0]), (0.10962569713592529, [0]), (0.1097499430179596, [0]), (0.11927248537540436, [1]), (0.11995446681976318, [1]), (0.12071418762207031, [1]), (0.12147746980190277, [1]), (0.1217314675450325, [1]), (0.12226396054029465, [1]), (0.12245267629623413, [1]), (0.12248959392309189, [1]), (0.12288273870944977, [1]), (0.12299679219722748, [1]), (0.12300324440002441, [1]), (0.12300324440002441, [1]), (0.1238025575876236, [1]), (0.12452452629804611, [0]), (0.12545843422412872, [0]), (0.12551474571228027, [1]), (0.12551474571228027, [1]), (0.12913915514945984, [0]), (0.13018065690994263, [0]), (0.13108934462070465, [0]), (0.13182909786701202, [1]), (0.13203489780426025, [0]), (0.13254410028457642, [0]), (0.13606879115104675, [0]), (0.13752269744873047, [1]), (0.13919681310653687, [0]), (0.141301691532135, [0]), (0.14217735826969147, [0]), (0.14259782433509827, [0]), (0.14262273907661438, [0]), (0.1437278687953949, [1]), (0.14373071491718292, [0]), (0.1437467336654663, [0]), (0.143764466047287, [0]), (0.14377185702323914, [0]), (0.1450742781162262, [1]), (0.14586655795574188, [0]), (0.14610502123832703, [1]), (0.14765700697898865, [1]), (0.14765700697898865, [1]), (0.14844968914985657, [0]), (0.14942286908626556, [0]), (0.1514579951763153, [0]), (0.1515309363603592, [1]), (0.15250198543071747, [0]), (0.15254193544387817, [1]), (0.15403518080711365, [1]), (0.1547059416770935, [1]), (0.15574193000793457, [1]), (0.15574197471141815, [1]), (0.15576323866844177, [1]), (0.155804842710495, [1]), (0.16057342290878296, [0]), (0.16059036552906036, [1]), (0.16066917777061462, [1]), (0.16140499711036682, [0]), (0.16159383952617645, [0]), (0.16167497634887695, [0]), (0.16259357333183289, [1]), (0.16378259658813477, [1]), (0.16383710503578186, [0]), (0.16413657367229462, [0]), (0.16500282287597656, [1]), (0.16502104699611664, [1]), (0.16538198292255402, [0]), (0.16940905153751373, [0]), (0.17223379015922546, [1]), (0.17230872809886932, [1]), (0.17293378710746765, [1]), (0.17410068213939667, [0]), (0.17533990740776062, [0]), (0.17541392147541046, [1]), (0.17541632056236267, [1]), (0.17640136182308197, [1]), (0.17814549803733826, [0]), (0.17921553552150726, [0]), (0.17976033687591553, [0]), (0.1825355887413025, [1]), (0.1917792111635208, [1]), (0.19189022481441498, [1]), (0.19199320673942566, [1]), (0.19201239943504333, [1]), (0.19203141331672668, [1]), (0.19207143783569336, [1]), (0.19303593039512634, [1]), (0.19373303651809692, [0]), (0.19608038663864136, [1]), (0.19608038663864136, [1]), (0.19608455896377563, [1]), (0.19608455896377563, [1]), (0.19695903360843658, [1]), (0.20134128630161285, [1]), (0.20344194769859314, [0]), (0.20365595817565918, [1]), (0.2060890644788742, [0]), (0.20613506436347961, [0]), (0.2092420756816864, [1]), (0.21741190552711487, [0]), (0.2197640836238861, [1]), (0.2200334370136261, [1]), (0.2200334370136261, [1]), (0.22015534341335297, [1]), (0.22019389271736145, [1]), (0.22062735259532928, [1]), (0.22062735259532928, [1]), (0.22062735259532928, [1]), (0.22062735259532928, [1]), (0.22115114331245422, [1]), (0.23083099722862244, [0]), (0.23199522495269775, [0]), (0.23199522495269775, [0]), (0.23227331042289734, [0]), (0.23248261213302612, [0]), (0.23362043499946594, [0]), (0.24087311327457428, [1]), (0.24087311327457428, [1]), (0.24087314307689667, [1]), (0.2409788817167282, [1]), (0.24158567190170288, [1]), (0.24165330827236176, [1]), (0.24195989966392517, [1]), (0.24230307340621948, [1]), (0.2423686534166336, [1]), (0.24265798926353455, [1]), (0.25656524300575256, [0]), (0.2573627233505249, [1]), (0.25739192962646484, [1]), (0.2716738283634186, [1]), (0.27167388796806335, [1]), (0.2716880142688751, [1]), (0.2716881036758423, [1]), (0.27177995443344116, [1]), (0.2717801630496979, [1]), (0.27178290486335754, [1]), (0.27178293466567993, [1]), (0.27219676971435547, [1]), (0.27264678478240967, [1]), (0.2727312445640564, [1]), (0.272788941860199, [1]), (0.2728445529937744, [1]), (0.2728746235370636, [1]), (0.2929607331752777, [1])]\n"
     ]
    }
   ],
   "source": [
    "accuracy = 0\n",
    "for i in tqdm(range(n)):\n",
    "    prediction = predict(i, k)\n",
    "    accuracy += (predict == y[i])\n",
    "accuracy / n"
   ]
  },
  {
   "cell_type": "code",
   "execution_count": null,
   "metadata": {},
   "outputs": [],
   "source": []
  }
 ],
 "metadata": {
  "kernelspec": {
   "display_name": "base",
   "language": "python",
   "name": "python3"
  },
  "language_info": {
   "codemirror_mode": {
    "name": "ipython",
    "version": 3
   },
   "file_extension": ".py",
   "mimetype": "text/x-python",
   "name": "python",
   "nbconvert_exporter": "python",
   "pygments_lexer": "ipython3",
   "version": "3.10.9"
  }
 },
 "nbformat": 4,
 "nbformat_minor": 2
}
