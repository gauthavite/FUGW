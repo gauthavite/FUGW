{
 "cells": [
  {
   "cell_type": "code",
   "execution_count": 3,
   "metadata": {},
   "outputs": [],
   "source": [
    "import json \n",
    "import numpy as np \n",
    "import torch\n",
    "from tqdm.notebook import tqdm \n",
    "\n",
    "from fugw_solver.solver import solver\n",
    "\n",
    "# from collections import defaultdict\n",
    "# data = defaultdict(list)\n",
    "# with open(\"dataset/full.jsonl\", 'r') as file:\n",
    "#     for line in file:\n",
    "#         j = json.loads(line)\n",
    "#         for k,v in j.items():\n",
    "#             data[k].append(v)\n",
    "\n",
    "# with open(\"dataset/mutag.json\", 'w') as f:\n",
    "#     json.dump(data, f)\n",
    "\n",
    "with open(\"dataset/mutag.json\", 'r') as f:\n",
    "    data = json.load(f)"
   ]
  },
  {
   "cell_type": "code",
   "execution_count": 4,
   "metadata": {},
   "outputs": [],
   "source": [
    "### Hyperparameter\n",
    "k = 10"
   ]
  },
  {
   "cell_type": "code",
   "execution_count": 5,
   "metadata": {},
   "outputs": [],
   "source": [
    "features = data[\"node_feat\"]\n",
    "n = len(features)\n",
    "y = data[\"y\"]\n",
    "adjacencies = []\n",
    "for (sources, targets), num_nodes in zip(data[\"edge_index\"], data[\"num_nodes\"]):\n",
    "    adj = np.zeros((num_nodes, num_nodes))\n",
    "    adj[sources, targets] = 1\n",
    "    adjacencies.append(adj)"
   ]
  },
  {
   "cell_type": "code",
   "execution_count": 8,
   "metadata": {},
   "outputs": [
    {
     "data": {
      "text/plain": [
       "tensor(0.9662)"
      ]
     },
     "execution_count": 8,
     "metadata": {},
     "output_type": "execute_result"
    }
   ],
   "source": [
    "# Test\n",
    "source_features = torch.tensor(features[0]).T.float()\n",
    "target_features = torch.tensor(features[1]).T.float()\n",
    "source_geometry = torch.tensor(adjacencies[0]).float()\n",
    "target_geometry = torch.tensor(adjacencies[1]).float()\n",
    "P, _ = solver(source_features, target_features, source_geometry, target_geometry)\n",
    "P.sum()"
   ]
  },
  {
   "cell_type": "code",
   "execution_count": 11,
   "metadata": {},
   "outputs": [],
   "source": [
    "def predict(i : int, k:int, rho):\n",
    "    \"\"\"Predicts the class of the i-th molecule using a k-NN\"\"\"\n",
    "    source_features = torch.tensor(features[i]).T.float()\n",
    "    source_geometry = torch.tensor(adjacencies[i]).float()\n",
    "    distances = []\n",
    "    for j, (target_features, target_geometry, classif) in enumerate(zip(features, adjacencies, y)):\n",
    "        if j == i:\n",
    "            continue\n",
    "        target_features = torch.tensor(target_features).T.float()\n",
    "        target_geometry = torch.tensor(target_geometry).float()\n",
    "        P, loss_ls = solver(source_features, target_features, source_geometry, target_geometry, rho=rho)\n",
    "        distances.append((loss_ls[-1][\"total\"], classif))\n",
    "\n",
    "    distances.sort(key=lambda x: x[0])[:k]\n",
    "    classes = list(map(lambda x: x[1], distances))\n",
    "\n",
    "    return 1 if classes.sum() >= classes.len() / 2 else 0"
   ]
  },
  {
   "cell_type": "code",
   "execution_count": null,
   "metadata": {},
   "outputs": [
    {
     "data": {
      "application/vnd.jupyter.widget-view+json": {
       "model_id": "9890bbe96bd0431c96238191b4500f9c",
       "version_major": 2,
       "version_minor": 0
      },
      "text/plain": [
       "  0%|          | 0/188 [00:00<?, ?it/s]"
      ]
     },
     "metadata": {},
     "output_type": "display_data"
    }
   ],
   "source": [
    "accuracy = 0\n",
    "rho = 1\n",
    "for i in tqdm(range(n)):\n",
    "    prediction = predict(i, k, rho)\n",
    "    accuracy += (predict == y[i])\n",
    "accuracy / n"
   ]
  },
  {
   "cell_type": "code",
   "execution_count": null,
   "metadata": {},
   "outputs": [],
   "source": [
    "accuracy = 0\n",
    "rho = 100\n",
    "for i in tqdm(range(n)):\n",
    "    prediction = predict(i, k, rho)\n",
    "    accuracy += (predict == y[i])\n",
    "accuracy / n"
   ]
  },
  {
   "cell_type": "code",
   "execution_count": null,
   "metadata": {},
   "outputs": [],
   "source": []
  }
 ],
 "metadata": {
  "kernelspec": {
   "display_name": "Python 3 (ipykernel)",
   "language": "python",
   "name": "python3"
  },
  "language_info": {
   "codemirror_mode": {
    "name": "ipython",
    "version": 3
   },
   "file_extension": ".py",
   "mimetype": "text/x-python",
   "name": "python",
   "nbconvert_exporter": "python",
   "pygments_lexer": "ipython3",
   "version": "3.9.18"
  }
 },
 "nbformat": 4,
 "nbformat_minor": 2
}
